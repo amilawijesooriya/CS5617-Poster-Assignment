{
 "cells": [
  {
   "cell_type": "code",
   "execution_count": 1,
   "metadata": {},
   "outputs": [],
   "source": [
    "import pandas as pd\n",
    "import matplotlib.pyplot as plt\n",
    "import seaborn as sns\n"
   ]
  },
  {
   "cell_type": "code",
   "execution_count": 2,
   "metadata": {},
   "outputs": [],
   "source": [
    "df=pd.read_csv('Information for Accommodation.csv',encoding='ascii')"
   ]
  },
  {
   "cell_type": "code",
   "execution_count": 3,
   "metadata": {},
   "outputs": [
    {
     "data": {
      "text/html": [
       "<div>\n",
       "<style scoped>\n",
       "    .dataframe tbody tr th:only-of-type {\n",
       "        vertical-align: middle;\n",
       "    }\n",
       "\n",
       "    .dataframe tbody tr th {\n",
       "        vertical-align: top;\n",
       "    }\n",
       "\n",
       "    .dataframe thead th {\n",
       "        text-align: right;\n",
       "    }\n",
       "</style>\n",
       "<table border=\"1\" class=\"dataframe\">\n",
       "  <thead>\n",
       "    <tr style=\"text-align: right;\">\n",
       "      <th></th>\n",
       "      <th>Type</th>\n",
       "      <th>Name</th>\n",
       "      <th>Address</th>\n",
       "      <th>Rooms</th>\n",
       "      <th>Grade</th>\n",
       "      <th>District</th>\n",
       "      <th>AGA Division</th>\n",
       "      <th>PS/MC/UC</th>\n",
       "      <th>Logitiute</th>\n",
       "      <th>Latitude</th>\n",
       "    </tr>\n",
       "  </thead>\n",
       "  <tbody>\n",
       "    <tr>\n",
       "      <th>0</th>\n",
       "      <td>Boutique Hotels</td>\n",
       "      <td>THE THEVA RESIDENCY</td>\n",
       "      <td>11/B5/10-1 06TH LANE, HANTANA,KANDY</td>\n",
       "      <td>10</td>\n",
       "      <td>NaN</td>\n",
       "      <td>Kandy</td>\n",
       "      <td>Kandy Divisional Secretariat</td>\n",
       "      <td>Kandy</td>\n",
       "      <td>80.635411</td>\n",
       "      <td>7.276036</td>\n",
       "    </tr>\n",
       "    <tr>\n",
       "      <th>1</th>\n",
       "      <td>Boutique Hotels</td>\n",
       "      <td>HIGHLAND VILLA</td>\n",
       "      <td>351, ABIMANGAMA ROAD, KUMBALGAMA, WELIGAMA</td>\n",
       "      <td>10</td>\n",
       "      <td>NaN</td>\n",
       "      <td>Matara</td>\n",
       "      <td>Weligama Divisional Secretariat</td>\n",
       "      <td>Weligama Pradeshiya Sabha</td>\n",
       "      <td>80.409972</td>\n",
       "      <td>5.960334</td>\n",
       "    </tr>\n",
       "    <tr>\n",
       "      <th>2</th>\n",
       "      <td>Boutique Hotels</td>\n",
       "      <td>ULAGALLA WALAWWA RESORT</td>\n",
       "      <td>THIRAPPANE, ANURADHAPURA</td>\n",
       "      <td>21</td>\n",
       "      <td>NaN</td>\n",
       "      <td>Anuradhapura</td>\n",
       "      <td>Anuradhapura East</td>\n",
       "      <td>Anuradhapura</td>\n",
       "      <td>80.545063</td>\n",
       "      <td>8.205927</td>\n",
       "    </tr>\n",
       "    <tr>\n",
       "      <th>3</th>\n",
       "      <td>Boutique Hotels</td>\n",
       "      <td>GALLE FORT HOTEL</td>\n",
       "      <td>NO.28, CHURCH STREET, FORT , GALLE</td>\n",
       "      <td>14</td>\n",
       "      <td>NaN</td>\n",
       "      <td>Galle</td>\n",
       "      <td>Galle Divisional Secretariat</td>\n",
       "      <td>Galle</td>\n",
       "      <td>80.217563</td>\n",
       "      <td>6.026649</td>\n",
       "    </tr>\n",
       "    <tr>\n",
       "      <th>4</th>\n",
       "      <td>Boutique Hotels</td>\n",
       "      <td>THE ELEPHANT CORRIDOR</td>\n",
       "      <td>POTHANA,KIBISSA, SIGIRIYA</td>\n",
       "      <td>21</td>\n",
       "      <td>NaN</td>\n",
       "      <td>Matale</td>\n",
       "      <td>NaN</td>\n",
       "      <td>Matale</td>\n",
       "      <td>80.710743</td>\n",
       "      <td>7.943525</td>\n",
       "    </tr>\n",
       "  </tbody>\n",
       "</table>\n",
       "</div>"
      ],
      "text/plain": [
       "              Type                     Name  \\\n",
       "0  Boutique Hotels      THE THEVA RESIDENCY   \n",
       "1  Boutique Hotels           HIGHLAND VILLA   \n",
       "2  Boutique Hotels  ULAGALLA WALAWWA RESORT   \n",
       "3  Boutique Hotels         GALLE FORT HOTEL   \n",
       "4  Boutique Hotels    THE ELEPHANT CORRIDOR   \n",
       "\n",
       "                                      Address  Rooms Grade      District  \\\n",
       "0         11/B5/10-1 06TH LANE, HANTANA,KANDY     10   NaN         Kandy   \n",
       "1  351, ABIMANGAMA ROAD, KUMBALGAMA, WELIGAMA     10   NaN        Matara   \n",
       "2                    THIRAPPANE, ANURADHAPURA     21   NaN  Anuradhapura   \n",
       "3          NO.28, CHURCH STREET, FORT , GALLE     14   NaN         Galle   \n",
       "4                   POTHANA,KIBISSA, SIGIRIYA     21   NaN        Matale   \n",
       "\n",
       "                      AGA Division                   PS/MC/UC  Logitiute  \\\n",
       "0     Kandy Divisional Secretariat                      Kandy  80.635411   \n",
       "1  Weligama Divisional Secretariat  Weligama Pradeshiya Sabha  80.409972   \n",
       "2                Anuradhapura East               Anuradhapura  80.545063   \n",
       "3     Galle Divisional Secretariat                      Galle  80.217563   \n",
       "4                              NaN                     Matale  80.710743   \n",
       "\n",
       "   Latitude  \n",
       "0  7.276036  \n",
       "1  5.960334  \n",
       "2  8.205927  \n",
       "3  6.026649  \n",
       "4  7.943525  "
      ]
     },
     "execution_count": 3,
     "metadata": {},
     "output_type": "execute_result"
    }
   ],
   "source": [
    "df.head()"
   ]
  },
  {
   "cell_type": "code",
   "execution_count": 4,
   "metadata": {},
   "outputs": [
    {
     "data": {
      "text/plain": [
       "Type\n",
       "Guest Houses                    41.971831\n",
       "Home Stay Units                 17.746479\n",
       "Bangalows                       16.338028\n",
       "Tourist Hotels                  10.751174\n",
       "Classified Hotels( 1-5 Star)     6.619718\n",
       "Rented Apartments                3.004695\n",
       "Boutique Villas                  1.690141\n",
       "Boutique Hotels                  1.314554\n",
       "Rented Homes                     0.281690\n",
       "Heritage Bungalows               0.187793\n",
       "Heritage Homes                   0.093897\n",
       "Name: proportion, dtype: float64"
      ]
     },
     "execution_count": 4,
     "metadata": {},
     "output_type": "execute_result"
    }
   ],
   "source": [
    "df['Type'].value_counts(normalize=True)*100"
   ]
  },
  {
   "cell_type": "code",
   "execution_count": 5,
   "metadata": {},
   "outputs": [
    {
     "data": {
      "text/plain": [
       "Type\n",
       "Guest Houses                    894\n",
       "Home Stay Units                 378\n",
       "Bangalows                       348\n",
       "Tourist Hotels                  229\n",
       "Classified Hotels( 1-5 Star)    141\n",
       "Rented Apartments                64\n",
       "Boutique Villas                  36\n",
       "Boutique Hotels                  28\n",
       "Rented Homes                      6\n",
       "Heritage Bungalows                4\n",
       "Heritage Homes                    2\n",
       "Name: count, dtype: int64"
      ]
     },
     "execution_count": 5,
     "metadata": {},
     "output_type": "execute_result"
    }
   ],
   "source": [
    "df['Type'].value_counts()"
   ]
  },
  {
   "cell_type": "code",
   "execution_count": 6,
   "metadata": {},
   "outputs": [
    {
     "data": {
      "text/plain": [
       "Type\n",
       "Bangalows                        4.201149\n",
       "Boutique Hotels                 20.142857\n",
       "Boutique Villas                  6.583333\n",
       "Classified Hotels( 1-5 Star)    90.978723\n",
       "Guest Houses                    10.833333\n",
       "Heritage Bungalows               4.750000\n",
       "Heritage Homes                   4.000000\n",
       "Home Stay Units                  3.010582\n",
       "Rented Apartments                3.234375\n",
       "Rented Homes                     3.166667\n",
       "Tourist Hotels                  43.502183\n",
       "Name: Rooms, dtype: float64"
      ]
     },
     "execution_count": 6,
     "metadata": {},
     "output_type": "execute_result"
    }
   ],
   "source": [
    "df.groupby('Type')['Rooms'].mean()"
   ]
  },
  {
   "cell_type": "code",
   "execution_count": 7,
   "metadata": {},
   "outputs": [
    {
     "data": {
      "text/html": [
       "<div>\n",
       "<style scoped>\n",
       "    .dataframe tbody tr th:only-of-type {\n",
       "        vertical-align: middle;\n",
       "    }\n",
       "\n",
       "    .dataframe tbody tr th {\n",
       "        vertical-align: top;\n",
       "    }\n",
       "\n",
       "    .dataframe thead th {\n",
       "        text-align: right;\n",
       "    }\n",
       "</style>\n",
       "<table border=\"1\" class=\"dataframe\">\n",
       "  <thead>\n",
       "    <tr style=\"text-align: right;\">\n",
       "      <th></th>\n",
       "      <th>Type</th>\n",
       "      <th>Name</th>\n",
       "      <th>Address</th>\n",
       "      <th>Rooms</th>\n",
       "      <th>Grade</th>\n",
       "      <th>District</th>\n",
       "      <th>AGA Division</th>\n",
       "      <th>PS/MC/UC</th>\n",
       "      <th>Logitiute</th>\n",
       "      <th>Latitude</th>\n",
       "    </tr>\n",
       "  </thead>\n",
       "  <tbody>\n",
       "    <tr>\n",
       "      <th>0</th>\n",
       "      <td>Boutique Hotels</td>\n",
       "      <td>THE THEVA RESIDENCY</td>\n",
       "      <td>11/B5/10-1 06TH LANE, HANTANA,KANDY</td>\n",
       "      <td>10</td>\n",
       "      <td>NaN</td>\n",
       "      <td>Kandy</td>\n",
       "      <td>Kandy Divisional Secretariat</td>\n",
       "      <td>Kandy</td>\n",
       "      <td>80.635411</td>\n",
       "      <td>7.276036</td>\n",
       "    </tr>\n",
       "    <tr>\n",
       "      <th>1</th>\n",
       "      <td>Boutique Hotels</td>\n",
       "      <td>HIGHLAND VILLA</td>\n",
       "      <td>351, ABIMANGAMA ROAD, KUMBALGAMA, WELIGAMA</td>\n",
       "      <td>10</td>\n",
       "      <td>NaN</td>\n",
       "      <td>Matara</td>\n",
       "      <td>Weligama Divisional Secretariat</td>\n",
       "      <td>Weligama Pradeshiya Sabha</td>\n",
       "      <td>80.409972</td>\n",
       "      <td>5.960334</td>\n",
       "    </tr>\n",
       "    <tr>\n",
       "      <th>2</th>\n",
       "      <td>Boutique Hotels</td>\n",
       "      <td>ULAGALLA WALAWWA RESORT</td>\n",
       "      <td>THIRAPPANE, ANURADHAPURA</td>\n",
       "      <td>21</td>\n",
       "      <td>NaN</td>\n",
       "      <td>Anuradhapura</td>\n",
       "      <td>Anuradhapura East</td>\n",
       "      <td>Anuradhapura</td>\n",
       "      <td>80.545063</td>\n",
       "      <td>8.205927</td>\n",
       "    </tr>\n",
       "    <tr>\n",
       "      <th>3</th>\n",
       "      <td>Boutique Hotels</td>\n",
       "      <td>GALLE FORT HOTEL</td>\n",
       "      <td>NO.28, CHURCH STREET, FORT , GALLE</td>\n",
       "      <td>14</td>\n",
       "      <td>NaN</td>\n",
       "      <td>Galle</td>\n",
       "      <td>Galle Divisional Secretariat</td>\n",
       "      <td>Galle</td>\n",
       "      <td>80.217563</td>\n",
       "      <td>6.026649</td>\n",
       "    </tr>\n",
       "    <tr>\n",
       "      <th>4</th>\n",
       "      <td>Boutique Hotels</td>\n",
       "      <td>THE ELEPHANT CORRIDOR</td>\n",
       "      <td>POTHANA,KIBISSA, SIGIRIYA</td>\n",
       "      <td>21</td>\n",
       "      <td>NaN</td>\n",
       "      <td>Matale</td>\n",
       "      <td>NaN</td>\n",
       "      <td>Matale</td>\n",
       "      <td>80.710743</td>\n",
       "      <td>7.943525</td>\n",
       "    </tr>\n",
       "  </tbody>\n",
       "</table>\n",
       "</div>"
      ],
      "text/plain": [
       "              Type                     Name  \\\n",
       "0  Boutique Hotels      THE THEVA RESIDENCY   \n",
       "1  Boutique Hotels           HIGHLAND VILLA   \n",
       "2  Boutique Hotels  ULAGALLA WALAWWA RESORT   \n",
       "3  Boutique Hotels         GALLE FORT HOTEL   \n",
       "4  Boutique Hotels    THE ELEPHANT CORRIDOR   \n",
       "\n",
       "                                      Address  Rooms Grade      District  \\\n",
       "0         11/B5/10-1 06TH LANE, HANTANA,KANDY     10   NaN         Kandy   \n",
       "1  351, ABIMANGAMA ROAD, KUMBALGAMA, WELIGAMA     10   NaN        Matara   \n",
       "2                    THIRAPPANE, ANURADHAPURA     21   NaN  Anuradhapura   \n",
       "3          NO.28, CHURCH STREET, FORT , GALLE     14   NaN         Galle   \n",
       "4                   POTHANA,KIBISSA, SIGIRIYA     21   NaN        Matale   \n",
       "\n",
       "                      AGA Division                   PS/MC/UC  Logitiute  \\\n",
       "0     Kandy Divisional Secretariat                      Kandy  80.635411   \n",
       "1  Weligama Divisional Secretariat  Weligama Pradeshiya Sabha  80.409972   \n",
       "2                Anuradhapura East               Anuradhapura  80.545063   \n",
       "3     Galle Divisional Secretariat                      Galle  80.217563   \n",
       "4                              NaN                     Matale  80.710743   \n",
       "\n",
       "   Latitude  \n",
       "0  7.276036  \n",
       "1  5.960334  \n",
       "2  8.205927  \n",
       "3  6.026649  \n",
       "4  7.943525  "
      ]
     },
     "execution_count": 7,
     "metadata": {},
     "output_type": "execute_result"
    }
   ],
   "source": [
    "df.head()"
   ]
  },
  {
   "cell_type": "code",
   "execution_count": 11,
   "metadata": {},
   "outputs": [
    {
     "data": {
      "text/plain": [
       "Grade     Type                        \n",
       "A         Guest Houses                    461\n",
       "B         Guest Houses                    399\n",
       "C         Guest Houses                     34\n",
       "DELUXE    Bangalows                       188\n",
       "          Home Stay Units                  67\n",
       "          Rented Apartments                13\n",
       "          Heritage Bungalows                4\n",
       "          Heritage Homes                    1\n",
       "FIVE      Classified Hotels( 1-5 Star)     20\n",
       "FOUR      Classified Hotels( 1-5 Star)     19\n",
       "ONE       Classified Hotels( 1-5 Star)     40\n",
       "STANDARD  Home Stay Units                 188\n",
       "          Bangalows                        60\n",
       "          Rented Apartments                17\n",
       "          Rented Homes                      4\n",
       "SUPERIOR  Home Stay Units                 123\n",
       "          Bangalows                       100\n",
       "          Rented Apartments                34\n",
       "          Rented Homes                      2\n",
       "          Heritage Homes                    1\n",
       "THREE     Classified Hotels( 1-5 Star)     25\n",
       "TWO       Classified Hotels( 1-5 Star)     37\n",
       "Name: count, dtype: int64"
      ]
     },
     "execution_count": 11,
     "metadata": {},
     "output_type": "execute_result"
    }
   ],
   "source": [
    "df.groupby('Grade')['Type'].value_counts()"
   ]
  },
  {
   "cell_type": "code",
   "execution_count": 14,
   "metadata": {},
   "outputs": [
    {
     "data": {
      "text/plain": [
       "District\n",
       "Ampara           62\n",
       "Anuradhapura     58\n",
       "Badulla         116\n",
       "Batticaloa       44\n",
       "Colombo         297\n",
       "Galle           284\n",
       "Gampaha         207\n",
       "Hambantota       76\n",
       "Jaffna           29\n",
       "Kalutara        132\n",
       "Kandy           266\n",
       "Kegalle          39\n",
       "Kilinochchi       6\n",
       "Kurunegala       48\n",
       "Mannar            4\n",
       "Matale           86\n",
       "Matara           88\n",
       "Moneragala       30\n",
       "Mullaitivu        4\n",
       "Nuwara Eliya     93\n",
       "Polonnaruwa      35\n",
       "Puttalam         54\n",
       "Ratnapura        37\n",
       "Trincomalee      28\n",
       "Vavuniya          7\n",
       "Name: Rooms, dtype: int64"
      ]
     },
     "execution_count": 14,
     "metadata": {},
     "output_type": "execute_result"
    }
   ],
   "source": [
    "df.groupby('District')['Rooms'].size()"
   ]
  },
  {
   "cell_type": "code",
   "execution_count": 26,
   "metadata": {},
   "outputs": [],
   "source": [
    "# rooms_df=df.groupby('Type')['Rooms'].size()\n",
    "# sns.barplot(data=rooms_df,x=rooms_df['Type'])"
   ]
  },
  {
   "cell_type": "code",
   "execution_count": 22,
   "metadata": {},
   "outputs": [
    {
     "data": {
      "text/plain": [
       "Type\n",
       "Guest Houses                    894\n",
       "Home Stay Units                 378\n",
       "Bangalows                       348\n",
       "Tourist Hotels                  229\n",
       "Classified Hotels( 1-5 Star)    141\n",
       "Rented Apartments                64\n",
       "Boutique Villas                  36\n",
       "Boutique Hotels                  28\n",
       "Rented Homes                      6\n",
       "Heritage Bungalows                4\n",
       "Heritage Homes                    2\n",
       "Name: count, dtype: int64"
      ]
     },
     "execution_count": 22,
     "metadata": {},
     "output_type": "execute_result"
    }
   ],
   "source": [
    "df['Type'].value_counts()"
   ]
  },
  {
   "cell_type": "code",
   "execution_count": null,
   "metadata": {},
   "outputs": [],
   "source": []
  }
 ],
 "metadata": {
  "kernelspec": {
   "display_name": "base",
   "language": "python",
   "name": "python3"
  },
  "language_info": {
   "codemirror_mode": {
    "name": "ipython",
    "version": 3
   },
   "file_extension": ".py",
   "mimetype": "text/x-python",
   "name": "python",
   "nbconvert_exporter": "python",
   "pygments_lexer": "ipython3",
   "version": "3.11.5"
  }
 },
 "nbformat": 4,
 "nbformat_minor": 2
}
