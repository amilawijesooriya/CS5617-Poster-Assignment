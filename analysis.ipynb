{
 "cells": [
  {
   "cell_type": "code",
   "execution_count": 1,
   "metadata": {},
   "outputs": [],
   "source": [
    "import pandas as pd\n",
    "import matplotlib.pyplot as plt\n",
    "import seaborn as sns"
   ]
  },
  {
   "cell_type": "code",
   "execution_count": 2,
   "metadata": {},
   "outputs": [],
   "source": [
    "df = pd.read_csv(\"Information for Accommodation.csv\", encoding=\"ascii\")\n"
   ]
  },
  {
   "cell_type": "code",
   "execution_count": 11,
   "metadata": {},
   "outputs": [
    {
     "name": "stdout",
     "output_type": "stream",
     "text": [
      "<class 'pandas.core.frame.DataFrame'>\n",
      "RangeIndex: 2130 entries, 0 to 2129\n",
      "Data columns (total 10 columns):\n",
      " #   Column        Non-Null Count  Dtype  \n",
      "---  ------        --------------  -----  \n",
      " 0   Type          2130 non-null   object \n",
      " 1   Name          2130 non-null   object \n",
      " 2   Address       2130 non-null   object \n",
      " 3   Rooms         2130 non-null   int64  \n",
      " 4   Grade         1837 non-null   object \n",
      " 5   District      2130 non-null   object \n",
      " 6   AGA Division  2111 non-null   object \n",
      " 7   PS/MC/UC      2127 non-null   object \n",
      " 8   Logitiute     1368 non-null   float64\n",
      " 9   Latitude      1370 non-null   float64\n",
      "dtypes: float64(2), int64(1), object(7)\n",
      "memory usage: 166.5+ KB\n"
     ]
    }
   ],
   "source": [
    "df.info()"
   ]
  },
  {
   "cell_type": "code",
   "execution_count": 12,
   "metadata": {},
   "outputs": [
    {
     "data": {
      "text/html": [
       "<div>\n",
       "<style scoped>\n",
       "    .dataframe tbody tr th:only-of-type {\n",
       "        vertical-align: middle;\n",
       "    }\n",
       "\n",
       "    .dataframe tbody tr th {\n",
       "        vertical-align: top;\n",
       "    }\n",
       "\n",
       "    .dataframe thead th {\n",
       "        text-align: right;\n",
       "    }\n",
       "</style>\n",
       "<table border=\"1\" class=\"dataframe\">\n",
       "  <thead>\n",
       "    <tr style=\"text-align: right;\">\n",
       "      <th></th>\n",
       "      <th>Rooms</th>\n",
       "      <th>Logitiute</th>\n",
       "      <th>Latitude</th>\n",
       "    </tr>\n",
       "  </thead>\n",
       "  <tbody>\n",
       "    <tr>\n",
       "      <th>count</th>\n",
       "      <td>2130.000000</td>\n",
       "      <td>1368.000000</td>\n",
       "      <td>1370.000000</td>\n",
       "    </tr>\n",
       "    <tr>\n",
       "      <th>mean</th>\n",
       "      <td>16.961972</td>\n",
       "      <td>80.430743</td>\n",
       "      <td>7.058470</td>\n",
       "    </tr>\n",
       "    <tr>\n",
       "      <th>std</th>\n",
       "      <td>36.657709</td>\n",
       "      <td>0.509183</td>\n",
       "      <td>2.119415</td>\n",
       "    </tr>\n",
       "    <tr>\n",
       "      <th>min</th>\n",
       "      <td>1.000000</td>\n",
       "      <td>79.705919</td>\n",
       "      <td>5.936771</td>\n",
       "    </tr>\n",
       "    <tr>\n",
       "      <th>25%</th>\n",
       "      <td>4.000000</td>\n",
       "      <td>79.967549</td>\n",
       "      <td>6.452453</td>\n",
       "    </tr>\n",
       "    <tr>\n",
       "      <th>50%</th>\n",
       "      <td>6.000000</td>\n",
       "      <td>80.396191</td>\n",
       "      <td>6.915005</td>\n",
       "    </tr>\n",
       "    <tr>\n",
       "      <th>75%</th>\n",
       "      <td>14.000000</td>\n",
       "      <td>80.729967</td>\n",
       "      <td>7.287510</td>\n",
       "    </tr>\n",
       "    <tr>\n",
       "      <th>max</th>\n",
       "      <td>541.000000</td>\n",
       "      <td>81.856883</td>\n",
       "      <td>80.791643</td>\n",
       "    </tr>\n",
       "  </tbody>\n",
       "</table>\n",
       "</div>"
      ],
      "text/plain": [
       "             Rooms    Logitiute     Latitude\n",
       "count  2130.000000  1368.000000  1370.000000\n",
       "mean     16.961972    80.430743     7.058470\n",
       "std      36.657709     0.509183     2.119415\n",
       "min       1.000000    79.705919     5.936771\n",
       "25%       4.000000    79.967549     6.452453\n",
       "50%       6.000000    80.396191     6.915005\n",
       "75%      14.000000    80.729967     7.287510\n",
       "max     541.000000    81.856883    80.791643"
      ]
     },
     "execution_count": 12,
     "metadata": {},
     "output_type": "execute_result"
    }
   ],
   "source": [
    "df.describe()"
   ]
  },
  {
   "cell_type": "code",
   "execution_count": 13,
   "metadata": {},
   "outputs": [
    {
     "data": {
      "text/plain": [
       "Type\n",
       "Guest Houses                    41.971831\n",
       "Home Stay Units                 17.746479\n",
       "Bangalows                       16.338028\n",
       "Tourist Hotels                  10.751174\n",
       "Classified Hotels( 1-5 Star)     6.619718\n",
       "Rented Apartments                3.004695\n",
       "Boutique Villas                  1.690141\n",
       "Boutique Hotels                  1.314554\n",
       "Rented Homes                     0.281690\n",
       "Heritage Bungalows               0.187793\n",
       "Heritage Homes                   0.093897\n",
       "Name: proportion, dtype: float64"
      ]
     },
     "execution_count": 13,
     "metadata": {},
     "output_type": "execute_result"
    }
   ],
   "source": [
    "df['Type'].value_counts(normalize=True)*100"
   ]
  },
  {
   "cell_type": "code",
   "execution_count": 14,
   "metadata": {},
   "outputs": [],
   "source": [
    "null_values=df.isnull().sum()"
   ]
  },
  {
   "cell_type": "code",
   "execution_count": 15,
   "metadata": {},
   "outputs": [
    {
     "data": {
      "text/plain": [
       "Type              0\n",
       "Name              0\n",
       "Address           0\n",
       "Rooms             0\n",
       "Grade           293\n",
       "District          0\n",
       "AGA Division     19\n",
       "PS/MC/UC          3\n",
       "Logitiute       762\n",
       "Latitude        760\n",
       "dtype: int64"
      ]
     },
     "execution_count": 15,
     "metadata": {},
     "output_type": "execute_result"
    }
   ],
   "source": [
    "null_values"
   ]
  },
  {
   "cell_type": "code",
   "execution_count": 16,
   "metadata": {},
   "outputs": [
    {
     "name": "stdout",
     "output_type": "stream",
     "text": [
      "Type             0.000000\n",
      "Name             0.000000\n",
      "Address          0.000000\n",
      "Rooms            0.000000\n",
      "Grade           13.755869\n",
      "District         0.000000\n",
      "AGA Division     0.892019\n",
      "PS/MC/UC         0.140845\n",
      "Logitiute       35.774648\n",
      "Latitude        35.680751\n",
      "dtype: float64\n"
     ]
    }
   ],
   "source": [
    "# Calculate the percentage of null values for each column\n",
    "df_null_percentage = df.isnull().sum() / len(df) * 100\n",
    "\n",
    "# Display the percentage of null values for each column\n",
    "print(df_null_percentage)\n"
   ]
  },
  {
   "cell_type": "code",
   "execution_count": 17,
   "metadata": {},
   "outputs": [
    {
     "data": {
      "text/html": [
       "<div>\n",
       "<style scoped>\n",
       "    .dataframe tbody tr th:only-of-type {\n",
       "        vertical-align: middle;\n",
       "    }\n",
       "\n",
       "    .dataframe tbody tr th {\n",
       "        vertical-align: top;\n",
       "    }\n",
       "\n",
       "    .dataframe thead th {\n",
       "        text-align: right;\n",
       "    }\n",
       "</style>\n",
       "<table border=\"1\" class=\"dataframe\">\n",
       "  <thead>\n",
       "    <tr style=\"text-align: right;\">\n",
       "      <th></th>\n",
       "      <th>Type</th>\n",
       "      <th>Name</th>\n",
       "      <th>Address</th>\n",
       "      <th>Rooms</th>\n",
       "      <th>Grade</th>\n",
       "      <th>District</th>\n",
       "      <th>AGA Division</th>\n",
       "      <th>PS/MC/UC</th>\n",
       "      <th>Logitiute</th>\n",
       "      <th>Latitude</th>\n",
       "    </tr>\n",
       "  </thead>\n",
       "  <tbody>\n",
       "    <tr>\n",
       "      <th>0</th>\n",
       "      <td>Boutique Hotels</td>\n",
       "      <td>THE THEVA RESIDENCY</td>\n",
       "      <td>11/B5/10-1 06TH LANE, HANTANA,KANDY</td>\n",
       "      <td>10</td>\n",
       "      <td>NaN</td>\n",
       "      <td>Kandy</td>\n",
       "      <td>Kandy Divisional Secretariat</td>\n",
       "      <td>Kandy</td>\n",
       "      <td>80.635411</td>\n",
       "      <td>7.276036</td>\n",
       "    </tr>\n",
       "    <tr>\n",
       "      <th>1</th>\n",
       "      <td>Boutique Hotels</td>\n",
       "      <td>HIGHLAND VILLA</td>\n",
       "      <td>351, ABIMANGAMA ROAD, KUMBALGAMA, WELIGAMA</td>\n",
       "      <td>10</td>\n",
       "      <td>NaN</td>\n",
       "      <td>Matara</td>\n",
       "      <td>Weligama Divisional Secretariat</td>\n",
       "      <td>Weligama Pradeshiya Sabha</td>\n",
       "      <td>80.409972</td>\n",
       "      <td>5.960334</td>\n",
       "    </tr>\n",
       "    <tr>\n",
       "      <th>2</th>\n",
       "      <td>Boutique Hotels</td>\n",
       "      <td>ULAGALLA WALAWWA RESORT</td>\n",
       "      <td>THIRAPPANE, ANURADHAPURA</td>\n",
       "      <td>21</td>\n",
       "      <td>NaN</td>\n",
       "      <td>Anuradhapura</td>\n",
       "      <td>Anuradhapura East</td>\n",
       "      <td>Anuradhapura</td>\n",
       "      <td>80.545063</td>\n",
       "      <td>8.205927</td>\n",
       "    </tr>\n",
       "    <tr>\n",
       "      <th>3</th>\n",
       "      <td>Boutique Hotels</td>\n",
       "      <td>GALLE FORT HOTEL</td>\n",
       "      <td>NO.28, CHURCH STREET, FORT , GALLE</td>\n",
       "      <td>14</td>\n",
       "      <td>NaN</td>\n",
       "      <td>Galle</td>\n",
       "      <td>Galle Divisional Secretariat</td>\n",
       "      <td>Galle</td>\n",
       "      <td>80.217563</td>\n",
       "      <td>6.026649</td>\n",
       "    </tr>\n",
       "    <tr>\n",
       "      <th>4</th>\n",
       "      <td>Boutique Hotels</td>\n",
       "      <td>THE ELEPHANT CORRIDOR</td>\n",
       "      <td>POTHANA,KIBISSA, SIGIRIYA</td>\n",
       "      <td>21</td>\n",
       "      <td>NaN</td>\n",
       "      <td>Matale</td>\n",
       "      <td>NaN</td>\n",
       "      <td>Matale</td>\n",
       "      <td>80.710743</td>\n",
       "      <td>7.943525</td>\n",
       "    </tr>\n",
       "  </tbody>\n",
       "</table>\n",
       "</div>"
      ],
      "text/plain": [
       "              Type                     Name  \\\n",
       "0  Boutique Hotels      THE THEVA RESIDENCY   \n",
       "1  Boutique Hotels           HIGHLAND VILLA   \n",
       "2  Boutique Hotels  ULAGALLA WALAWWA RESORT   \n",
       "3  Boutique Hotels         GALLE FORT HOTEL   \n",
       "4  Boutique Hotels    THE ELEPHANT CORRIDOR   \n",
       "\n",
       "                                      Address  Rooms Grade      District  \\\n",
       "0         11/B5/10-1 06TH LANE, HANTANA,KANDY     10   NaN         Kandy   \n",
       "1  351, ABIMANGAMA ROAD, KUMBALGAMA, WELIGAMA     10   NaN        Matara   \n",
       "2                    THIRAPPANE, ANURADHAPURA     21   NaN  Anuradhapura   \n",
       "3          NO.28, CHURCH STREET, FORT , GALLE     14   NaN         Galle   \n",
       "4                   POTHANA,KIBISSA, SIGIRIYA     21   NaN        Matale   \n",
       "\n",
       "                      AGA Division                   PS/MC/UC  Logitiute  \\\n",
       "0     Kandy Divisional Secretariat                      Kandy  80.635411   \n",
       "1  Weligama Divisional Secretariat  Weligama Pradeshiya Sabha  80.409972   \n",
       "2                Anuradhapura East               Anuradhapura  80.545063   \n",
       "3     Galle Divisional Secretariat                      Galle  80.217563   \n",
       "4                              NaN                     Matale  80.710743   \n",
       "\n",
       "   Latitude  \n",
       "0  7.276036  \n",
       "1  5.960334  \n",
       "2  8.205927  \n",
       "3  6.026649  \n",
       "4  7.943525  "
      ]
     },
     "execution_count": 17,
     "metadata": {},
     "output_type": "execute_result"
    }
   ],
   "source": [
    "df.head()"
   ]
  },
  {
   "cell_type": "code",
   "execution_count": 18,
   "metadata": {},
   "outputs": [
    {
     "data": {
      "text/plain": [
       "<Axes: xlabel='Rooms', ylabel='Count'>"
      ]
     },
     "execution_count": 18,
     "metadata": {},
     "output_type": "execute_result"
    },
    {
     "data": {
      "image/png": "[encoded data removed]",
      "text/plain": [
       "<Figure size 1000x600 with 1 Axes>"
      ]
     },
     "metadata": {},
     "output_type": "display_data"
    }
   ],
   "source": [
    "plt.figure(figsize=(10,6),facecolor='white')\n",
    "plt.subplot(2,1,1)\n",
    "sns.histplot(data=df['Rooms'])"
   ]
  },
  {
   "cell_type": "code",
   "execution_count": 19,
   "metadata": {},
   "outputs": [
    {
     "data": {
      "text/html": [
       "<div>\n",
       "<style scoped>\n",
       "    .dataframe tbody tr th:only-of-type {\n",
       "        vertical-align: middle;\n",
       "    }\n",
       "\n",
       "    .dataframe tbody tr th {\n",
       "        vertical-align: top;\n",
       "    }\n",
       "\n",
       "    .dataframe thead th {\n",
       "        text-align: right;\n",
       "    }\n",
       "</style>\n",
       "<table border=\"1\" class=\"dataframe\">\n",
       "  <thead>\n",
       "    <tr style=\"text-align: right;\">\n",
       "      <th></th>\n",
       "      <th>Type</th>\n",
       "      <th>Name</th>\n",
       "      <th>Address</th>\n",
       "      <th>Rooms</th>\n",
       "      <th>Grade</th>\n",
       "      <th>District</th>\n",
       "      <th>AGA Division</th>\n",
       "      <th>PS/MC/UC</th>\n",
       "      <th>Logitiute</th>\n",
       "      <th>Latitude</th>\n",
       "    </tr>\n",
       "  </thead>\n",
       "  <tbody>\n",
       "    <tr>\n",
       "      <th>0</th>\n",
       "      <td>Boutique Hotels</td>\n",
       "      <td>THE THEVA RESIDENCY</td>\n",
       "      <td>11/B5/10-1 06TH LANE, HANTANA,KANDY</td>\n",
       "      <td>10</td>\n",
       "      <td>NaN</td>\n",
       "      <td>Kandy</td>\n",
       "      <td>Kandy Divisional Secretariat</td>\n",
       "      <td>Kandy</td>\n",
       "      <td>80.635411</td>\n",
       "      <td>7.276036</td>\n",
       "    </tr>\n",
       "    <tr>\n",
       "      <th>1</th>\n",
       "      <td>Boutique Hotels</td>\n",
       "      <td>HIGHLAND VILLA</td>\n",
       "      <td>351, ABIMANGAMA ROAD, KUMBALGAMA, WELIGAMA</td>\n",
       "      <td>10</td>\n",
       "      <td>NaN</td>\n",
       "      <td>Matara</td>\n",
       "      <td>Weligama Divisional Secretariat</td>\n",
       "      <td>Weligama Pradeshiya Sabha</td>\n",
       "      <td>80.409972</td>\n",
       "      <td>5.960334</td>\n",
       "    </tr>\n",
       "    <tr>\n",
       "      <th>2</th>\n",
       "      <td>Boutique Hotels</td>\n",
       "      <td>ULAGALLA WALAWWA RESORT</td>\n",
       "      <td>THIRAPPANE, ANURADHAPURA</td>\n",
       "      <td>21</td>\n",
       "      <td>NaN</td>\n",
       "      <td>Anuradhapura</td>\n",
       "      <td>Anuradhapura East</td>\n",
       "      <td>Anuradhapura</td>\n",
       "      <td>80.545063</td>\n",
       "      <td>8.205927</td>\n",
       "    </tr>\n",
       "    <tr>\n",
       "      <th>3</th>\n",
       "      <td>Boutique Hotels</td>\n",
       "      <td>GALLE FORT HOTEL</td>\n",
       "      <td>NO.28, CHURCH STREET, FORT , GALLE</td>\n",
       "      <td>14</td>\n",
       "      <td>NaN</td>\n",
       "      <td>Galle</td>\n",
       "      <td>Galle Divisional Secretariat</td>\n",
       "      <td>Galle</td>\n",
       "      <td>80.217563</td>\n",
       "      <td>6.026649</td>\n",
       "    </tr>\n",
       "    <tr>\n",
       "      <th>4</th>\n",
       "      <td>Boutique Hotels</td>\n",
       "      <td>THE ELEPHANT CORRIDOR</td>\n",
       "      <td>POTHANA,KIBISSA, SIGIRIYA</td>\n",
       "      <td>21</td>\n",
       "      <td>NaN</td>\n",
       "      <td>Matale</td>\n",
       "      <td>NaN</td>\n",
       "      <td>Matale</td>\n",
       "      <td>80.710743</td>\n",
       "      <td>7.943525</td>\n",
       "    </tr>\n",
       "  </tbody>\n",
       "</table>\n",
       "</div>"
      ],
      "text/plain": [
       "              Type                     Name  \\\n",
       "0  Boutique Hotels      THE THEVA RESIDENCY   \n",
       "1  Boutique Hotels           HIGHLAND VILLA   \n",
       "2  Boutique Hotels  ULAGALLA WALAWWA RESORT   \n",
       "3  Boutique Hotels         GALLE FORT HOTEL   \n",
       "4  Boutique Hotels    THE ELEPHANT CORRIDOR   \n",
       "\n",
       "                                      Address  Rooms Grade      District  \\\n",
       "0         11/B5/10-1 06TH LANE, HANTANA,KANDY     10   NaN         Kandy   \n",
       "1  351, ABIMANGAMA ROAD, KUMBALGAMA, WELIGAMA     10   NaN        Matara   \n",
       "2                    THIRAPPANE, ANURADHAPURA     21   NaN  Anuradhapura   \n",
       "3          NO.28, CHURCH STREET, FORT , GALLE     14   NaN         Galle   \n",
       "4                   POTHANA,KIBISSA, SIGIRIYA     21   NaN        Matale   \n",
       "\n",
       "                      AGA Division                   PS/MC/UC  Logitiute  \\\n",
       "0     Kandy Divisional Secretariat                      Kandy  80.635411   \n",
       "1  Weligama Divisional Secretariat  Weligama Pradeshiya Sabha  80.409972   \n",
       "2                Anuradhapura East               Anuradhapura  80.545063   \n",
       "3     Galle Divisional Secretariat                      Galle  80.217563   \n",
       "4                              NaN                     Matale  80.710743   \n",
       "\n",
       "   Latitude  \n",
       "0  7.276036  \n",
       "1  5.960334  \n",
       "2  8.205927  \n",
       "3  6.026649  \n",
       "4  7.943525  "
      ]
     },
     "execution_count": 19,
     "metadata": {},
     "output_type": "execute_result"
    }
   ],
   "source": [
    "df.head()"
   ]
  },
  {
   "cell_type": "code",
   "execution_count": 20,
   "metadata": {},
   "outputs": [
    {
     "data": {
      "text/plain": [
       "Type\n",
       "Guest Houses                    41.971831\n",
       "Home Stay Units                 17.746479\n",
       "Bangalows                       16.338028\n",
       "Tourist Hotels                  10.751174\n",
       "Classified Hotels( 1-5 Star)     6.619718\n",
       "Rented Apartments                3.004695\n",
       "Boutique Villas                  1.690141\n",
       "Boutique Hotels                  1.314554\n",
       "Rented Homes                     0.281690\n",
       "Heritage Bungalows               0.187793\n",
       "Heritage Homes                   0.093897\n",
       "Name: proportion, dtype: float64"
      ]
     },
     "execution_count": 20,
     "metadata": {},
     "output_type": "execute_result"
    }
   ],
   "source": [
    "df['Type'].value_counts(normalize=True)*100"
   ]
  },
  {
   "cell_type": "code",
   "execution_count": null,
   "metadata": {},
   "outputs": [],
   "source": []
  }
 ],
 "metadata": {
  "kernelspec": {
   "display_name": "base",
   "language": "python",
   "name": "python3"
  },
  "language_info": {
   "codemirror_mode": {
    "name": "ipython",
    "version": 3
   },
   "file_extension": ".py",
   "mimetype": "text/x-python",
   "name": "python",
   "nbconvert_exporter": "python",
   "pygments_lexer": "ipython3",
   "version": "3.11.5"
  }
 },
 "nbformat": 4,
 "nbformat_minor": 2
}
